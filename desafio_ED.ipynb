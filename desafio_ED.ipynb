{
 "cells": [
  {
   "cell_type": "markdown",
   "metadata": {},
   "source": [
    "# **Desafio Engenharia de Dados**\n"
   ]
  },
  {
   "cell_type": "markdown",
   "metadata": {},
   "source": [
    "## Desafio 01"
   ]
  },
  {
   "cell_type": "markdown",
   "metadata": {},
   "source": [
    "#### Resposta 01"
   ]
  },
  {
   "cell_type": "markdown",
   "metadata": {},
   "source": [
    "O esquema json apresentado no arquivo ERP.json aparentemente é oriundo de algum sistema de ERP,\n",
    "onde podemos destacar em três partes.\n",
    "\n",
    "1º parte: onde podemos observar as duas primeiras chaves \"curUTC\" e \"locRef\" que identificam \n",
    "a data de quando foi realizado uma venda o restaurante o qual emitiu as informações.\n",
    "\n",
    "2º parte: a chave \"guestChecks\" que contém uma lista de dicionário com informações gerais de um determinado \n",
    "pedido realizado naquele restaurante, onde a chave \"guestCheckId\" é a responsável para identificar o número do pedido.\n",
    "Algumas dessas informações que podem ser extraída é o valor do pedido e o desconto aplicado no pagamento, assim como \n",
    "algumas taxas aplicadas, também datas de modificações e transações.\n",
    "\n",
    "3º parte: por último e não menos importante, vamos destacar a chave \"detailLines\" onde também possui uma lista de dicionário, \n",
    "só que ao invés de abordar informações gerais de pagamento ele aborda os itens que foram pedidos pelo clientes, tais como: valor\n",
    " do item e o menu que se encontra."
   ]
  },
  {
   "cell_type": "markdown",
   "metadata": {},
   "source": [
    "#### Resposta 02"
   ]
  },
  {
   "cell_type": "markdown",
   "metadata": {},
   "source": [
    "Obs: Modelo Lógico está no repositório em PDF, assim como o script SQL."
   ]
  },
  {
   "cell_type": "markdown",
   "metadata": {},
   "source": [
    "#### Resposta 03"
   ]
  },
  {
   "cell_type": "markdown",
   "metadata": {},
   "source": [
    "O modelo escolhido faz com que as informações vinda em JSON num sistema de chave-valor para uma estrutura de relacionamento, então foi feito a separação de algumas informações selecionadas e a partir dessas informações foram feitas várias tabelas havendo relacionamento entre si."
   ]
  },
  {
   "cell_type": "markdown",
   "metadata": {},
   "source": [
    "## Desafio 02"
   ]
  },
  {
   "cell_type": "markdown",
   "metadata": {},
   "source": [
    "#### Resposta 01"
   ]
  },
  {
   "cell_type": "markdown",
   "metadata": {},
   "source": [
    "O armazenamento desses dados são de suma importância, pois por meio dele a equipe de inteligência de negócios junto\n",
    "a equipe de dados de diversos segmentos, podem trabalhar em conjunto em cima dos dados fornecidos pela API. Mas como? \n",
    "Os engenheiros de dados realiza a extração desses dados, se necessário fazem algum tratamento e posteriormente a carga\n",
    "em algum banco sendo SQL ou NoSQL. \n",
    "\n",
    "Depois desses dados já estarem algum banco os analistas de dados  e analistas de BI realizam análises por meio de estatística descritiva e criação de dashboards, assim fornecendo informações para tomada de\n",
    "decisão. Também, caso tenha Cientistas de Dados tem a possibilidade de mapear eventuais promoções mais adequadas para \n",
    "cada restaurante."
   ]
  },
  {
   "cell_type": "markdown",
   "metadata": {},
   "source": [
    "#### Resposta 02"
   ]
  },
  {
   "cell_type": "markdown",
   "metadata": {},
   "source": [
    "Sistema de pastas:\n",
    "\n",
    "```plaintext\n",
    "C:.\n",
    "└───projeto\n",
    "    └───extracao\n",
    "        └───extracao_api_restaurante\n",
    "            └───ano\n",
    "                └───2024\n",
    "                    └───mês\n",
    "                        ├───1\n",
    "                        ├───2\n",
    "                        ├───3\n",
    "                        ├───4\n",
    "                        ├───5\n",
    "                        ├───6\n",
    "                        ├───7\n",
    "                        ├───8\n",
    "                        ├───9\n",
    "                        ├───10\n",
    "                        ├───11\n",
    "                        └───12\n"
   ]
  },
  {
   "cell_type": "markdown",
   "metadata": {},
   "source": [
    "Para se armazenar um arquivo periodicamente, seja diariamente, quinzenal ou mensal é importante armazenar em pastas nomeadas por meses. Também, se no projeto há outras extrações é de suma importância separar pastas por extrações diferentes fontes. Uma outra alternativa para ter uma melhor consulta, é armazenar as informações em um banco de dados\n",
    "NoSQl como o MongoDB.\n"
   ]
  },
  {
   "cell_type": "markdown",
   "metadata": {},
   "source": [
    "#### Resposta 03"
   ]
  },
  {
   "cell_type": "markdown",
   "metadata": {},
   "source": [
    "Provavelmente afetaria no tipo e no formato do dado que será retornado, com isso pode afetar o pipeline de dados não tendo a devida sequência do workflow, principalmente se por meio desses arquivos json realizar tratamento e transformação utilizando Python e biblioteca como pandas. Um grande auxílio é utilizar o framework Great Expectations, que tem a função de validar dados."
   ]
  }
 ],
 "metadata": {
  "kernelspec": {
   "display_name": "Python 3",
   "language": "python",
   "name": "python3"
  },
  "language_info": {
   "codemirror_mode": {
    "name": "ipython",
    "version": 3
   },
   "file_extension": ".py",
   "mimetype": "text/x-python",
   "name": "python",
   "nbconvert_exporter": "python",
   "pygments_lexer": "ipython3",
   "version": "3.10.6"
  }
 },
 "nbformat": 4,
 "nbformat_minor": 2
}
